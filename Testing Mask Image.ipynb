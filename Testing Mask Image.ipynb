{
 "cells": [
  {
   "cell_type": "code",
   "execution_count": 3,
   "metadata": {},
   "outputs": [],
   "source": [
    "from tensorflow.keras.applications.mobilenet_v2 import preprocess_input\n",
    "from tensorflow.keras.preprocessing.image import img_to_array\n",
    "from tensorflow.keras.models import load_model\n",
    "import numpy as np\n",
    "import cv2\n",
    "import os"
   ]
  },
  {
   "cell_type": "code",
   "execution_count": 4,
   "metadata": {},
   "outputs": [],
   "source": [
    "prototxtPath=os.path.sep.join([r'C:\\Users\\Harsh\\Desktop\\Major\\face detector','deploy.prototxt'])\n",
    "weightsPath=os.path.sep.join([r'C:\\Users\\Harsh\\Desktop\\Major\\face detector','res10_300x300_ssd_iter_140000.caffemodel'])"
   ]
  },
  {
   "cell_type": "code",
   "execution_count": 5,
   "metadata": {},
   "outputs": [
    {
     "data": {
      "text/plain": [
       "'C:\\\\Users\\\\Harsh\\\\Desktop\\\\Major\\\\face detector\\\\deploy.prototxt'"
      ]
     },
     "execution_count": 5,
     "metadata": {},
     "output_type": "execute_result"
    }
   ],
   "source": [
    "prototxtPath"
   ]
  },
  {
   "cell_type": "code",
   "execution_count": 6,
   "metadata": {},
   "outputs": [
    {
     "data": {
      "text/plain": [
       "'C:\\\\Users\\\\Harsh\\\\Desktop\\\\Major\\\\face detector\\\\res10_300x300_ssd_iter_140000.caffemodel'"
      ]
     },
     "execution_count": 6,
     "metadata": {},
     "output_type": "execute_result"
    }
   ],
   "source": [
    "\n",
    "weightsPath"
   ]
  },
  {
   "cell_type": "code",
   "execution_count": 7,
   "metadata": {},
   "outputs": [],
   "source": [
    "net=cv2.dnn.readNet(prototxtPath,weightsPath)"
   ]
  },
  {
   "cell_type": "code",
   "execution_count": 8,
   "metadata": {},
   "outputs": [],
   "source": [
    "model=load_model(r'C:\\Users\\Harsh\\Desktop\\Major\\mobilenet_v2.model')"
   ]
  },
  {
   "cell_type": "code",
   "execution_count": 9,
   "metadata": {},
   "outputs": [],
   "source": [
    "#image=cv2.imread(r'C:\\Users\\asus\\Desktop\\Realworl mask detection\\train\\with_mask\\0230.jpg')\n",
    "#image = cv2.imread(\"maskman.jpg\", 0)"
   ]
  },
  {
   "cell_type": "code",
   "execution_count": 10,
   "metadata": {},
   "outputs": [
    {
     "name": "stdout",
     "output_type": "stream",
     "text": [
      "First Blob: (1, 3, 224, 224)\n"
     ]
    }
   ],
   "source": [
    "image = cv2.imread(r'C:\\Users\\Harsh\\Desktop\\Major\\harsh3.jpeg')\n",
    "resized = cv2.resize(image, (224, 224))\n",
    "blob = cv2.dnn.blobFromImage(resized, 1, (224, 224), (104, 117, 123))\n",
    "print(\"First Blob: {}\".format(blob.shape))"
   ]
  },
  {
   "cell_type": "code",
   "execution_count": 11,
   "metadata": {},
   "outputs": [
    {
     "data": {
      "text/plain": [
       "array([[[221, 218, 220],\n",
       "        [221, 218, 220],\n",
       "        [221, 218, 220],\n",
       "        ...,\n",
       "        [210, 209, 213],\n",
       "        [210, 209, 213],\n",
       "        [210, 209, 213]],\n",
       "\n",
       "       [[221, 218, 220],\n",
       "        [221, 218, 220],\n",
       "        [221, 218, 220],\n",
       "        ...,\n",
       "        [210, 209, 213],\n",
       "        [210, 209, 213],\n",
       "        [210, 209, 213]],\n",
       "\n",
       "       [[221, 218, 220],\n",
       "        [221, 218, 220],\n",
       "        [221, 218, 220],\n",
       "        ...,\n",
       "        [210, 209, 213],\n",
       "        [210, 209, 213],\n",
       "        [210, 209, 213]],\n",
       "\n",
       "       ...,\n",
       "\n",
       "       [[ 63,  63,  49],\n",
       "        [ 50,  51,  35],\n",
       "        [ 51,  48,  33],\n",
       "        ...,\n",
       "        [ 43,  50,  45],\n",
       "        [ 64,  75,  72],\n",
       "        [138, 151, 149]],\n",
       "\n",
       "       [[ 63,  63,  49],\n",
       "        [ 50,  51,  35],\n",
       "        [ 51,  48,  33],\n",
       "        ...,\n",
       "        [ 41,  48,  43],\n",
       "        [ 52,  61,  58],\n",
       "        [136, 147, 145]],\n",
       "\n",
       "       [[ 64,  64,  50],\n",
       "        [ 51,  52,  36],\n",
       "        [ 51,  48,  33],\n",
       "        ...,\n",
       "        [ 40,  47,  42],\n",
       "        [ 45,  54,  51],\n",
       "        [133, 144, 142]]], dtype=uint8)"
      ]
     },
     "execution_count": 11,
     "metadata": {},
     "output_type": "execute_result"
    }
   ],
   "source": [
    "image"
   ]
  },
  {
   "cell_type": "code",
   "execution_count": 12,
   "metadata": {},
   "outputs": [],
   "source": [
    "(h,w)=image.shape[:2]\n"
   ]
  },
  {
   "cell_type": "code",
   "execution_count": 13,
   "metadata": {},
   "outputs": [
    {
     "data": {
      "text/plain": [
       "(1152, 528)"
      ]
     },
     "execution_count": 13,
     "metadata": {},
     "output_type": "execute_result"
    }
   ],
   "source": [
    "(h,w)\n"
   ]
  },
  {
   "cell_type": "code",
   "execution_count": 14,
   "metadata": {},
   "outputs": [],
   "source": [
    "blob=cv2.dnn.blobFromImage(image,1.0,(300,300),(104.0,177.0,123.0))\n"
   ]
  },
  {
   "cell_type": "code",
   "execution_count": 15,
   "metadata": {},
   "outputs": [
    {
     "data": {
      "text/plain": [
       "array([[[[ 117.,  117.,  117., ...,  106.,  106.,  106.],\n",
       "         [ 117.,  117.,  117., ...,  106.,  106.,  106.],\n",
       "         [ 118.,  118.,  118., ...,  107.,  107.,  107.],\n",
       "         ...,\n",
       "         [ -41.,  -62.,  -56., ...,  -65.,  -20.,   28.],\n",
       "         [ -39.,  -53.,  -53., ...,  -54.,  -55.,   25.],\n",
       "         [ -46.,  -53.,  -55., ...,  -59.,  -62.,    2.]],\n",
       "\n",
       "        [[  41.,   41.,   41., ...,   32.,   32.,   32.],\n",
       "         [  41.,   41.,   41., ...,   32.,   32.,   32.],\n",
       "         [  42.,   42.,   42., ...,   33.,   33.,   33.],\n",
       "         ...,\n",
       "         [-113., -136., -129., ..., -134.,  -84.,  -33.],\n",
       "         [-112., -127., -127., ..., -124., -119.,  -36.],\n",
       "         [-119., -129., -130., ..., -130., -128.,  -59.]],\n",
       "\n",
       "        [[  97.,   97.,   97., ...,   90.,   90.,   90.],\n",
       "         [  97.,   97.,   97., ...,   90.,   90.,   90.],\n",
       "         [  98.,   98.,   98., ...,   91.,   91.,   91.],\n",
       "         ...,\n",
       "         [ -68.,  -92.,  -81., ...,  -85.,  -30.,   25.],\n",
       "         [ -70.,  -87.,  -84., ...,  -79.,  -69.,   18.],\n",
       "         [ -79.,  -90.,  -87., ...,  -86.,  -80.,   -8.]]]], dtype=float32)"
      ]
     },
     "execution_count": 15,
     "metadata": {},
     "output_type": "execute_result"
    }
   ],
   "source": [
    "blob\n"
   ]
  },
  {
   "cell_type": "code",
   "execution_count": 16,
   "metadata": {},
   "outputs": [
    {
     "data": {
      "text/plain": [
       "(1, 3, 300, 300)"
      ]
     },
     "execution_count": 16,
     "metadata": {},
     "output_type": "execute_result"
    }
   ],
   "source": [
    "blob.shape\n"
   ]
  },
  {
   "cell_type": "code",
   "execution_count": 17,
   "metadata": {},
   "outputs": [],
   "source": [
    "net.setInput(blob)\n",
    "detections=net.forward()"
   ]
  },
  {
   "cell_type": "code",
   "execution_count": 18,
   "metadata": {},
   "outputs": [
    {
     "data": {
      "text/plain": [
       "array([[[[0.        , 1.        , 0.99950206, ..., 0.32041913,\n",
       "          0.6286717 , 0.5826885 ],\n",
       "         [0.        , 1.        , 0.12095279, ..., 4.008711  ,\n",
       "          4.842184  , 4.9842367 ],\n",
       "         [0.        , 1.        , 0.11460672, ..., 0.12265658,\n",
       "          0.98336685, 0.8733761 ],\n",
       "         ...,\n",
       "         [0.        , 0.        , 0.        , ..., 0.        ,\n",
       "          0.        , 0.        ],\n",
       "         [0.        , 0.        , 0.        , ..., 0.        ,\n",
       "          0.        , 0.        ],\n",
       "         [0.        , 0.        , 0.        , ..., 0.        ,\n",
       "          0.        , 0.        ]]]], dtype=float32)"
      ]
     },
     "execution_count": 18,
     "metadata": {},
     "output_type": "execute_result"
    }
   ],
   "source": [
    "detections\n"
   ]
  },
  {
   "cell_type": "code",
   "execution_count": 19,
   "metadata": {},
   "outputs": [],
   "source": [
    "for i in range(0,detections.shape[2]):\n",
    "    confidence=detections[0,0,i,2]\n",
    "    \n",
    "    \n",
    "    if confidence>0.5:\n",
    "        #we need the X,Y coordinates\n",
    "        box=detections[0,0,i,3:7]*np.array([w,h,w,h])\n",
    "        (startX,startY,endX,endY)=box.astype('int')\n",
    "        \n",
    "        #ensure the bounding boxes fall within the dimensions of the frame\n",
    "        (startX,startY)=(max(0,startX),max(0,startY))\n",
    "        (endX,endY)=(min(w-1,endX), min(h-1,endY))\n",
    "        \n",
    "        \n",
    "        #extract the face ROI, convert it from BGR to RGB channel, resize it to 224,224 and preprocess it\n",
    "        face=image[startY:endY, startX:endX]\n",
    "        face=cv2.cvtColor(face,cv2.COLOR_BGR2RGB)\n",
    "        face=cv2.resize(face,(224,224))\n",
    "        face=img_to_array(face)\n",
    "        face=preprocess_input(face)\n",
    "        face=np.expand_dims(face,axis=0)\n",
    "        \n",
    "        (mask,withoutMask)=model.predict(face)[0]\n",
    "        \n",
    "        #determine the class label and color we will use to draw the bounding box and text\n",
    "        label='Mask' if mask>withoutMask else 'No Mask'\n",
    "        color=(0,255,0) if label=='Mask' else (0,0,255)\n",
    "        \n",
    "        #include the probability in the label\n",
    "        label=\"{}: {:.2f}%\".format(label,max(mask,withoutMask)*100)\n",
    "        \n",
    "        #display the label and bounding boxes\n",
    "        cv2.putText(image,label,(startX,startY-10),cv2.FONT_HERSHEY_SIMPLEX,0.45,color,2)\n",
    "        cv2.rectangle(image,(startX,startY),(endX,endY),color,2)\n",
    "        \n",
    "        \n",
    "        \n",
    "cv2.imshow(\"OutPut\",image)\n",
    "cv2.waitKey(0)\n",
    "cv2.destroyAllWindows()"
   ]
  },
  {
   "cell_type": "code",
   "execution_count": null,
   "metadata": {},
   "outputs": [],
   "source": []
  }
 ],
 "metadata": {
  "kernelspec": {
   "display_name": "Python 3",
   "language": "python",
   "name": "python3"
  },
  "language_info": {
   "codemirror_mode": {
    "name": "ipython",
    "version": 3
   },
   "file_extension": ".py",
   "mimetype": "text/x-python",
   "name": "python",
   "nbconvert_exporter": "python",
   "pygments_lexer": "ipython3",
   "version": "3.7.9"
  }
 },
 "nbformat": 4,
 "nbformat_minor": 2
}
